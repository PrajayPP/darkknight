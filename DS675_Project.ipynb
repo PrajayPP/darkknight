{
  "cells": [
    {
      "cell_type": "markdown",
      "source": [
        "# **Importing the neccessary Libraries**"
      ],
      "metadata": {
        "id": "_83K-jWheoHe"
      },
      "id": "_83K-jWheoHe"
    },
    {
      "cell_type": "code",
      "execution_count": null,
      "metadata": {
        "id": "89a97038"
      },
      "outputs": [],
      "source": [
        "import pandas as pd\n",
        "import matplotlib.pyplot as plt\n",
        "import numpy as np\n",
        "import seaborn as sns"
      ],
      "id": "89a97038"
    },
    {
      "cell_type": "code",
      "execution_count": null,
      "metadata": {
        "id": "8ec2b570"
      },
      "outputs": [],
      "source": [
        "import warnings\n",
        "warnings.filterwarnings(\"ignore\")"
      ],
      "id": "8ec2b570"
    },
    {
      "cell_type": "markdown",
      "source": [
        "### **Reading the dataset**"
      ],
      "metadata": {
        "id": "PgK8sS5uewME"
      },
      "id": "PgK8sS5uewME"
    },
    {
      "cell_type": "code",
      "execution_count": null,
      "metadata": {
        "id": "b2d54ff3"
      },
      "outputs": [],
      "source": [
        "df = pd.read_csv(\"Global Economy Indicators.csv\")"
      ],
      "id": "b2d54ff3"
    },
    {
      "cell_type": "code",
      "execution_count": null,
      "metadata": {
        "id": "38a6bbfc"
      },
      "outputs": [],
      "source": [
        "df"
      ],
      "id": "38a6bbfc"
    },
    {
      "cell_type": "code",
      "execution_count": null,
      "metadata": {
        "id": "1e1cf83c"
      },
      "outputs": [],
      "source": [
        "df.describe(include='all')"
      ],
      "id": "1e1cf83c"
    },
    {
      "cell_type": "code",
      "execution_count": null,
      "metadata": {
        "id": "bcc9c17d"
      },
      "outputs": [],
      "source": [
        "df.columns"
      ],
      "id": "bcc9c17d"
    },
    {
      "cell_type": "markdown",
      "source": [
        "##### **Removing Whitespaces**\n",
        "\n",
        "There were whitespaces in all the column names. So we used **strip()** function to remove them"
      ],
      "metadata": {
        "id": "XJiBfjojfH19"
      },
      "id": "XJiBfjojfH19"
    },
    {
      "cell_type": "code",
      "execution_count": null,
      "metadata": {
        "id": "17b7342a"
      },
      "outputs": [],
      "source": [
        "df.columns = df.columns.str.strip()"
      ],
      "id": "17b7342a"
    },
    {
      "cell_type": "code",
      "execution_count": null,
      "metadata": {
        "id": "2ad11b51"
      },
      "outputs": [],
      "source": [
        "df.columns"
      ],
      "id": "2ad11b51"
    },
    {
      "cell_type": "markdown",
      "source": [
        "### **Checking the null values**"
      ],
      "metadata": {
        "id": "CqqgYtw5fY42"
      },
      "id": "CqqgYtw5fY42"
    },
    {
      "cell_type": "code",
      "execution_count": null,
      "metadata": {
        "id": "9af0f9d4"
      },
      "outputs": [],
      "source": [
        "df.isnull().sum()"
      ],
      "id": "9af0f9d4"
    },
    {
      "cell_type": "markdown",
      "source": [
        "#### **Filling the null values**\n",
        "So here the null values are filled with both **mean()** as well as **median()**.<br>\n",
        "For the columns Agriculture and Changes in Inventories, we have used median because it has positive and negative thus the mean() might be skewed in one direction or can even result the mean to go to 0 value.<br>\n",
        "For rest of the columns, we have used mean() as they only have positve values."
      ],
      "metadata": {
        "id": "VAGCVUZUfesL"
      },
      "id": "VAGCVUZUfesL"
    },
    {
      "cell_type": "code",
      "execution_count": null,
      "metadata": {
        "id": "6fb1f07f"
      },
      "outputs": [],
      "source": [
        "df['Agriculture, hunting, forestry, fishing (ISIC A-B)'] = df['Agriculture, hunting, forestry, fishing (ISIC A-B)'].fillna(df['Agriculture, hunting, forestry, fishing (ISIC A-B)'].median())"
      ],
      "id": "6fb1f07f"
    },
    {
      "cell_type": "code",
      "execution_count": null,
      "metadata": {
        "id": "18083488"
      },
      "outputs": [],
      "source": [
        "df['Changes in inventories'] = df['Changes in inventories'].fillna(df['Changes in inventories'].median())"
      ],
      "id": "18083488"
    },
    {
      "cell_type": "code",
      "execution_count": null,
      "metadata": {
        "id": "0bb21d4c"
      },
      "outputs": [],
      "source": [
        "df.fillna(0,inplace=True)"
      ],
      "id": "0bb21d4c"
    },
    {
      "cell_type": "code",
      "execution_count": null,
      "metadata": {
        "id": "66819fe0"
      },
      "outputs": [],
      "source": [
        "df.isnull().sum()"
      ],
      "id": "66819fe0"
    },
    {
      "cell_type": "markdown",
      "source": [
        "#### **Data Exploration**\n",
        "> **Histogram** : This plot shows us the distribution of the GNI. One important thing to nte here is that we had to use log_scale as the data was heavily left-skewed.\n"
      ],
      "metadata": {
        "id": "971vLhPcgdAU"
      },
      "id": "971vLhPcgdAU"
    },
    {
      "cell_type": "code",
      "execution_count": null,
      "metadata": {
        "id": "98bb37f1"
      },
      "outputs": [],
      "source": [
        "# As the real world data is heavily skewed hence I have added bins in the log scale\n",
        "plt.figure(figsize=(13, 6))\n",
        "sns.histplot(df['Gross National Income(GNI) in USD'],log_scale=True, kde=True)\n",
        "plt.title('Histogram of Per capita GNI')\n",
        "plt.xlabel('Per capita GNI')\n",
        "plt.ylabel('Count')\n",
        "plt.show()"
      ],
      "id": "98bb37f1"
    },
    {
      "cell_type": "markdown",
      "source": [
        "> Box Plot : Here we have done two plots, one with Log of GDP and second with Log of GDP / Population.\n"
      ],
      "metadata": {
        "id": "akscs88ChCQH"
      },
      "id": "akscs88ChCQH"
    },
    {
      "cell_type": "markdown",
      "source": [
        "After doing the first plot we saw two main things:<br>\n",
        "1) There are many outliers.<br>\n",
        "2) The GDP of some countries(for eg. USA) has always been above the average from the start. Hence we made the conclusion that the GDP should looked at by dividing it by Population.<br> Hence the countries with huge GDP do also have large Population, thus the GDP / Population plot gives us much better results and also eliminates outliers."
      ],
      "metadata": {
        "id": "I8at4dKHiZHy"
      },
      "id": "I8at4dKHiZHy"
    },
    {
      "cell_type": "code",
      "execution_count": null,
      "metadata": {
        "id": "7b69e013"
      },
      "outputs": [],
      "source": [
        "df['Log_GDP'] = np.log1p(df['Gross Domestic Product (GDP)'])\n",
        "plt.figure(figsize=(20, 6))\n",
        "sns.boxplot(x=df['Log_GDP'])\n",
        "plt.title('Box Plot of Log Transformed GDP')\n",
        "plt.xlabel('Log Transformed GDP')\n",
        "plt.show()"
      ],
      "id": "7b69e013"
    },
    {
      "cell_type": "code",
      "execution_count": null,
      "metadata": {
        "id": "zzBGNGQ6A0Rc"
      },
      "outputs": [],
      "source": [
        "df['GDP by Population'] = df['Gross Domestic Product (GDP)'] / df['Population']"
      ],
      "id": "zzBGNGQ6A0Rc"
    },
    {
      "cell_type": "code",
      "execution_count": null,
      "metadata": {
        "id": "AKrLK1K9BcH8"
      },
      "outputs": [],
      "source": [
        "df['Log_GDP_Population'] = np.log1p(df['GDP by Population'])\n",
        "plt.figure(figsize=(20, 6))\n",
        "sns.boxplot(x=df['Log_GDP_Population'])\n",
        "plt.title('Box Plot of Log Transformed GDP by Population')\n",
        "plt.xlabel('Log Transformed GDP by Population')\n",
        "plt.show()"
      ],
      "id": "AKrLK1K9BcH8"
    },
    {
      "cell_type": "markdown",
      "source": [
        "##### **Detecting Outliers**\n",
        "\n",
        "Here the outliers are calculated using IQR(Inter Quantile Range) for both Log GDP and Log GDP by Population. Further bar chart is plotted for better readability."
      ],
      "metadata": {
        "id": "ydNXJHGljPMK"
      },
      "id": "ydNXJHGljPMK"
    },
    {
      "cell_type": "code",
      "execution_count": null,
      "metadata": {
        "id": "4018a0c9"
      },
      "outputs": [],
      "source": [
        "Q1 = df['Log_GDP'].quantile(0.25)\n",
        "Q3 = df['Log_GDP'].quantile(0.75)\n",
        "IQR = Q3 - Q1\n",
        "\n",
        "lower_bound = Q1 - 1.5 * IQR\n",
        "upper_bound = Q3 + 1.5 * IQR\n",
        "\n",
        "outliers = df[(df['Log_GDP'] < lower_bound) | (df['Log_GDP'] > upper_bound)]"
      ],
      "id": "4018a0c9"
    },
    {
      "cell_type": "code",
      "execution_count": null,
      "metadata": {
        "id": "17c4368b"
      },
      "outputs": [],
      "source": [
        "outliers_by_country = outliers.groupby('Country').size().reset_index(name='Outlier_Count')"
      ],
      "id": "17c4368b"
    },
    {
      "cell_type": "code",
      "execution_count": null,
      "metadata": {
        "id": "64c14283"
      },
      "outputs": [],
      "source": [
        "plt.figure(figsize=(15, 6))\n",
        "sns.barplot(x='Country', y='Outlier_Count', data=outliers_by_country)\n",
        "plt.title('Outlier Counts by Country')\n",
        "plt.xlabel('Country')\n",
        "plt.ylabel('Outlier Count')\n",
        "plt.xticks(rotation=90)\n",
        "plt.show()"
      ],
      "id": "64c14283"
    },
    {
      "cell_type": "code",
      "execution_count": null,
      "metadata": {
        "id": "pHdj3T9kCVUU"
      },
      "outputs": [],
      "source": [
        "Q1 = df['Log_GDP_Population'].quantile(0.25)\n",
        "Q3 = df['Log_GDP_Population'].quantile(0.75)\n",
        "IQR = Q3 - Q1\n",
        "\n",
        "lower_bound = Q1 - 1.5 * IQR\n",
        "upper_bound = Q3 + 1.5 * IQR\n",
        "\n",
        "outliers1 = df[(df['Log_GDP_Population'] < lower_bound) | (df['Log_GDP_Population'] > upper_bound)]"
      ],
      "id": "pHdj3T9kCVUU"
    },
    {
      "cell_type": "code",
      "execution_count": null,
      "metadata": {
        "id": "YkmfvK71CkFZ"
      },
      "outputs": [],
      "source": [
        "outliers_by_country = outliers1.groupby('Country').size().reset_index(name='Outlier_Count')\n",
        "\n",
        "print(outliers_by_country)"
      ],
      "id": "YkmfvK71CkFZ"
    },
    {
      "cell_type": "code",
      "execution_count": null,
      "metadata": {
        "id": "da29eb02"
      },
      "outputs": [],
      "source": [
        "print(df['Population'].describe())"
      ],
      "id": "da29eb02"
    },
    {
      "cell_type": "code",
      "execution_count": null,
      "metadata": {
        "id": "3aae9488"
      },
      "outputs": [],
      "source": [
        "df.dtypes"
      ],
      "id": "3aae9488"
    },
    {
      "cell_type": "code",
      "execution_count": null,
      "metadata": {
        "id": "c3da601f"
      },
      "outputs": [],
      "source": [
        "numerical_columns = df.select_dtypes(include=['float64', 'int64']).columns"
      ],
      "id": "c3da601f"
    },
    {
      "cell_type": "markdown",
      "source": [
        "> Correlation Matrix : Plotting the correlation matrix using heatmap tells us whether two features are correlated or not."
      ],
      "metadata": {
        "id": "uzsydxILkhn0"
      },
      "id": "uzsydxILkhn0"
    },
    {
      "cell_type": "code",
      "execution_count": null,
      "metadata": {
        "id": "8efc84fa"
      },
      "outputs": [],
      "source": [
        "correlation_matrix = df[numerical_columns].corr()\n",
        "plt.figure(figsize=(16, 10))\n",
        "sns.heatmap(correlation_matrix, annot=True, cmap='coolwarm', fmt='.2f', linewidths=0.5)\n",
        "plt.title('Correlation Matrix')\n",
        "plt.show()"
      ],
      "id": "8efc84fa"
    },
    {
      "cell_type": "markdown",
      "source": [
        "GNI and GDP have a nearly perfect positive correlation with each other."
      ],
      "metadata": {
        "id": "EruSIE-Xk_IE"
      },
      "id": "EruSIE-Xk_IE"
    },
    {
      "cell_type": "code",
      "execution_count": null,
      "metadata": {
        "id": "7eae75ed"
      },
      "outputs": [],
      "source": [
        "numerical_feature1 = 'Gross National Income(GNI) in USD'\n",
        "numerical_feature2 = 'Gross Domestic Product (GDP)'\n",
        "\n",
        "plt.figure(figsize=(16, 12))\n",
        "sns.scatterplot(x=df[numerical_feature1], y=df[numerical_feature2], palette='viridis', alpha=0.7)\n",
        "plt.title(f'Scatter Plot between {numerical_feature1} and {numerical_feature2}')\n",
        "plt.xlabel(numerical_feature1)\n",
        "plt.ylabel(numerical_feature2)\n",
        "plt.show()"
      ],
      "id": "7eae75ed"
    },
    {
      "cell_type": "code",
      "execution_count": null,
      "metadata": {
        "id": "e2a904a8"
      },
      "outputs": [],
      "source": [
        "sns.pairplot(data=df, vars=['Gross National Income(GNI) in USD','Population','Gross Domestic Product (GDP)'], hue='Year',palette=\"plasma\")\n",
        "plt.figure(figsize=(16,12))\n",
        "plt.show()"
      ],
      "id": "e2a904a8"
    },
    {
      "cell_type": "markdown",
      "source": [
        "> **Line Plot :** Showing the GDP by Population trend for the top 10 countries by GDP.<br> Note : Russia's data has been split into two parts - USSR(1970-90) and Russian Federation(1990-2021)"
      ],
      "metadata": {
        "id": "iHfQVzUgljG4"
      },
      "id": "iHfQVzUgljG4"
    },
    {
      "cell_type": "code",
      "execution_count": null,
      "metadata": {
        "id": "29d99c79"
      },
      "outputs": [],
      "source": [
        "top_countries_avg_gdp = df.groupby('Country')['Gross Domestic Product (GDP)'].mean().nlargest(10).index\n",
        "\n",
        "df_top10 = df[df['Country'].isin(top_countries_avg_gdp)]\n",
        "\n",
        "plt.figure(figsize=(12, 6))\n",
        "sns.lineplot(x='Year', y='Log_GDP_Population', hue='Country', palette='gist_rainbow', data=df_top10)\n",
        "plt.title('GDP by Population Trend Over Time for Top 10 Countries')\n",
        "plt.xlabel('Year')\n",
        "plt.ylabel('GDP')\n",
        "plt.legend(loc='upper left', bbox_to_anchor=(1, 1))\n",
        "plt.show()"
      ],
      "id": "29d99c79"
    },
    {
      "cell_type": "code",
      "execution_count": null,
      "metadata": {
        "id": "a28c4907"
      },
      "outputs": [],
      "source": [
        "top_countries_avg_gdp"
      ],
      "id": "a28c4907"
    },
    {
      "cell_type": "code",
      "execution_count": null,
      "metadata": {
        "id": "7hmyr-x8OfRb"
      },
      "outputs": [],
      "source": [
        "df['Gross Domestic Product (GDP) in Million USD'] = df['Gross Domestic Product (GDP)']/10**6\n",
        "pc_gni_g16 = pd.pivot_table(df[df[\"Country\"].isin([' Argentina ',' Australia ',' Brazil ',' Canada ',\n",
        "                                                         ' China ',' India ',' France ',' Italy ',' Japan ',\n",
        "                                                         ' Republic of Korea ',' Mexico ',' Russia Federation ',\n",
        "                                                         ' Saudi Arabia ',' Türkiye ',' United Kingdom ', ' United States '])],\n",
        "                            values='Gross Domestic Product (GDP) in Million USD',\n",
        "                            index=['Year'],\n",
        "                           columns=['Country'],\n",
        "                            aggfunc='sum',\n",
        "                            fill_value=0)\n",
        "\n",
        "zero_sum_cols = pc_gni_g16.columns[pc_gni_g16.sum() == 0]\n",
        "\n",
        "pc_gni_g16 = pc_gni_g16.drop(zero_sum_cols, axis=1)\n",
        "pc_gni_g16.shape"
      ],
      "id": "7hmyr-x8OfRb"
    },
    {
      "cell_type": "code",
      "execution_count": null,
      "metadata": {
        "id": "k8EnIopbqiPA"
      },
      "outputs": [],
      "source": [
        "pip install bar_chart_race"
      ],
      "id": "k8EnIopbqiPA"
    },
    {
      "cell_type": "markdown",
      "source": [
        "> **Bar Chart Race : A unique plot to show how the Country's GDP trend was for all the years.**"
      ],
      "metadata": {
        "id": "DQ-x5YEemQXz"
      },
      "id": "DQ-x5YEemQXz"
    },
    {
      "cell_type": "code",
      "execution_count": null,
      "metadata": {
        "id": "RFo3IBBaPfva"
      },
      "outputs": [],
      "source": [
        "import bar_chart_race as bcr\n",
        "\n",
        "bcr.bar_chart_race(df = pc_gni_g16,\n",
        "                   n_bars = 16,\n",
        "                   sort='desc',\n",
        "                   title='Gross Domestic Product (GDP) in Million USD',\n",
        "                   dpi=100,\n",
        "                   steps_per_period=1,\n",
        "                   period_length=1000)"
      ],
      "id": "RFo3IBBaPfva"
    },
    {
      "cell_type": "markdown",
      "source": [
        "### **Regression Analysis**\n",
        "> Firstly selecting only a few features having correlation with the target variable GDP by Population."
      ],
      "metadata": {
        "id": "fmmHxO2znORn"
      },
      "id": "fmmHxO2znORn"
    },
    {
      "cell_type": "code",
      "execution_count": null,
      "metadata": {
        "id": "Ahg1BaXrDCfs"
      },
      "outputs": [],
      "source": [
        "features = ['Final consumption expenditure',\n",
        " 'General government final consumption expenditure',\n",
        " 'Household consumption expenditure (including Non-profit institutions serving households)',\n",
        " 'Other Activities (ISIC J-P)',\n",
        " 'Transport, storage and communication (ISIC I)',\n",
        " 'Wholesale, retail trade, restaurants and hotels (ISIC G-H)',\n",
        " 'Gross National Income(GNI) in USD',\n",
        " 'Total Value Added']\n",
        "\n",
        "target_variable = df['Log_GDP_Population']"
      ],
      "id": "Ahg1BaXrDCfs"
    },
    {
      "cell_type": "code",
      "execution_count": null,
      "metadata": {
        "id": "_C1waSmgDGxm"
      },
      "outputs": [],
      "source": [
        "X = df[features]\n",
        "y = target_variable"
      ],
      "id": "_C1waSmgDGxm"
    },
    {
      "cell_type": "markdown",
      "source": [
        "> Scaling all the features into a certain range."
      ],
      "metadata": {
        "id": "5bNxGxfcniB6"
      },
      "id": "5bNxGxfcniB6"
    },
    {
      "cell_type": "code",
      "execution_count": null,
      "metadata": {
        "id": "TcWS_HA3IP96"
      },
      "outputs": [],
      "source": [
        "from sklearn.preprocessing import StandardScaler\n",
        "\n",
        "scaler = StandardScaler()\n",
        "X_normalized = scaler.fit_transform(X)"
      ],
      "id": "TcWS_HA3IP96"
    },
    {
      "cell_type": "markdown",
      "source": [
        "> Using Shuffle Split to eliminate further bias."
      ],
      "metadata": {
        "id": "zXcJfAGtnmwU"
      },
      "id": "zXcJfAGtnmwU"
    },
    {
      "cell_type": "code",
      "execution_count": null,
      "metadata": {
        "id": "82LgILDaIgpK"
      },
      "outputs": [],
      "source": [
        "from sklearn.model_selection import ShuffleSplit\n",
        "\n",
        "shuffle_split = ShuffleSplit(n_splits=10, test_size=0.2, random_state=42)\n",
        "\n",
        "for train_index, test_index in shuffle_split.split(X, y):\n",
        "    X_train, X_test = X_normalized[train_index], X_normalized[test_index]\n",
        "    y_train, y_test = y[train_index], y[test_index]"
      ],
      "id": "82LgILDaIgpK"
    },
    {
      "cell_type": "markdown",
      "source": [
        "##### Using Linear Regression, Support Vector Regressor and Random Forest Regressor for predicting the GDP."
      ],
      "metadata": {
        "id": "-xbxMXRTnuGg"
      },
      "id": "-xbxMXRTnuGg"
    },
    {
      "cell_type": "code",
      "execution_count": null,
      "metadata": {
        "id": "VSlRo50CIsFu"
      },
      "outputs": [],
      "source": [
        "from sklearn.linear_model import LinearRegression\n",
        "\n",
        "linear_regression_model = LinearRegression()\n",
        "linear_regression_model.fit(X_train, y_train)"
      ],
      "id": "VSlRo50CIsFu"
    },
    {
      "cell_type": "code",
      "execution_count": null,
      "metadata": {
        "id": "lhT070gmJ6Sk"
      },
      "outputs": [],
      "source": [
        "from sklearn.svm import SVR\n",
        "\n",
        "svr_model = SVR(kernel=\"rbf\")\n",
        "svr_model.fit(X_train, y_train)"
      ],
      "id": "lhT070gmJ6Sk"
    },
    {
      "cell_type": "code",
      "execution_count": null,
      "metadata": {
        "id": "eqKChoZeJ62H"
      },
      "outputs": [],
      "source": [
        "from sklearn.ensemble import RandomForestRegressor\n",
        "\n",
        "random_forest_model = RandomForestRegressor()\n",
        "random_forest_model.fit(X_train, y_train)"
      ],
      "id": "eqKChoZeJ62H"
    },
    {
      "cell_type": "markdown",
      "source": [
        "###### **Evaluation Metrics** : Used RMSE and R2 score to evaluate all the algorithms.\n",
        "> Outoff all the algorithms, **Random Forest** performs the best giving the lowest RMSE and the highest R2 (goodness of fit)."
      ],
      "metadata": {
        "id": "sBnUeV7un8zF"
      },
      "id": "sBnUeV7un8zF"
    },
    {
      "cell_type": "code",
      "execution_count": null,
      "metadata": {
        "id": "mSeOMltuKFaF"
      },
      "outputs": [],
      "source": [
        "from sklearn.metrics import mean_squared_error, r2_score\n",
        "\n",
        "linear_regression_predictions = linear_regression_model.predict(X_test)\n",
        "linear_regression_rmse = np.sqrt(mean_squared_error(y_test, linear_regression_predictions))\n",
        "linear_regression_r2 = r2_score(y_test, linear_regression_predictions)\n",
        "\n",
        "print(\"Linear Regression RMSE:\", linear_regression_rmse)\n",
        "print(\"Linear Regression R-squared:\", linear_regression_r2)\n",
        "\n",
        "svr_predictions = svr_model.predict(X_test)\n",
        "svr_rmse = np.sqrt(mean_squared_error(y_test, svr_predictions))\n",
        "svr_r2 = r2_score(y_test, svr_predictions)\n",
        "\n",
        "print(\"Support Vector Regression RMSE:\", svr_rmse)\n",
        "print(\"Support Vector Regression R-squared:\", svr_r2)\n",
        "\n",
        "random_forest_predictions = random_forest_model.predict(X_test)\n",
        "random_forest_rmse = np.sqrt(mean_squared_error(y_test, random_forest_predictions))\n",
        "random_forest_r2 = r2_score(y_test, random_forest_predictions)\n",
        "\n",
        "print(\"Random Forest Regression RMSE:\", random_forest_rmse)\n",
        "print(\"Random Forest Regression R-squared:\", random_forest_r2)"
      ],
      "id": "mSeOMltuKFaF"
    },
    {
      "cell_type": "markdown",
      "source": [
        "#### Time Series Analysis <br>\n",
        "Used SARIMA (Seasonal AutoRegressive Integrated Moving Average) specifcally because our data is seasonal data, and the ARIMA model makes an assumption that the data is not seasonal thus performing worse.\n",
        "\n",
        "> We have used the Gross Domestic Product (GDP) feature and scaled it manually by dividing it by 10^9 to convert into Billions."
      ],
      "metadata": {
        "id": "ZWax4QAqohGz"
      },
      "id": "ZWax4QAqohGz"
    },
    {
      "cell_type": "markdown",
      "source": [
        "Lastly, we have only shown the prediction for Top 10 countries because our dataset has 220 countries and showing it will take lot of computation time.<br>\n",
        "The prediction starts from the year 2020 and goes upto 2060."
      ],
      "metadata": {
        "id": "E7zn8nTFpNVk"
      },
      "id": "E7zn8nTFpNVk"
    },
    {
      "cell_type": "code",
      "execution_count": null,
      "metadata": {
        "id": "e9QnKvVcsCtD"
      },
      "outputs": [],
      "source": [
        "import pandas as pd\n",
        "from statsmodels.tsa.statespace.sarimax import SARIMAX\n",
        "import matplotlib.pyplot as plt\n",
        "import warnings\n",
        "\n",
        "warnings.filterwarnings(\"ignore\")\n",
        "\n",
        "df['Year'] = pd.to_datetime(df['Year'], format='%Y')\n",
        "\n",
        "df['Gross Domestic Product (GDP) Scaled'] = df['Gross Domestic Product (GDP)'] / 10**9\n",
        "avg_gdp_by_country = df.groupby('Country')['Gross Domestic Product (GDP) Scaled'].mean()\n",
        "\n",
        "top_10_countries = avg_gdp_by_country.nlargest(10).index\n",
        "\n",
        "for country in top_10_countries:\n",
        "\n",
        "    df_country = df[df['Country'] == country]\n",
        "\n",
        "    df_country = df_country.set_index('Year')\n",
        "\n",
        "    future_years = pd.date_range(start='2021-01-01', end='2060-01-01', freq='A')\n",
        "    future_index = df_country.index.union(future_years)\n",
        "\n",
        "    train_size = int(len(df_country) * 1)\n",
        "    train, test = df_country.iloc[:train_size], df_country.iloc[train_size:]\n",
        "\n",
        "    model = SARIMAX(train['GDP by Population'], order=(1, 1, 1), seasonal_order=(1, 1, 1, 12)) #Seasonal AutoRegressive Integrated Moving Average with eXogenous regressors model\n",
        "    fit_model = model.fit()\n",
        "\n",
        "    \"\"\"p: Trend autoregression order.(relationship between previous and current value)\n",
        "    d: Trend difference order.(stationary)\n",
        "    q: Trend moving average order.(current value and the residual error)\"\"\"\n",
        "\n",
        "    forecast = fit_model.get_forecast(steps=len(future_years))\n",
        "    future_predictions = forecast.predicted_mean\n",
        "\n",
        "    plt.plot(df_country.index, df_country['GDP by Population'], label='Actual')\n",
        "    plt.plot(future_predictions.index, future_predictions, label='Predicted (Future)')\n",
        "    plt.title(f'{country} - GDP Forecasting')\n",
        "    plt.legend()\n",
        "    plt.show()\n",
        "\n",
        "    gdp_2021 = df_country.loc['2021-01-01', 'Gross Domestic Product (GDP) Scaled']\n",
        "    predicted_gdp_last_year = future_predictions.index[-1]\n",
        "    predicted_gdp_last_year_value = future_predictions.iloc[-1]\n",
        "    print(f\"{country} - GDP in billions in 2021: {gdp_2021:.2f}\")\n",
        "    print(f\"{country} - Predicted GDP in billions in {predicted_gdp_last_year.year}: {predicted_gdp_last_year_value:.2f}\")\n",
        "    print(\"=\"*40)"
      ],
      "id": "e9QnKvVcsCtD"
    }
  ],
  "metadata": {
    "colab": {
      "provenance": []
    },
    "kernelspec": {
      "display_name": "Python 3 (ipykernel)",
      "language": "python",
      "name": "python3"
    },
    "language_info": {
      "codemirror_mode": {
        "name": "ipython",
        "version": 3
      },
      "file_extension": ".py",
      "mimetype": "text/x-python",
      "name": "python",
      "nbconvert_exporter": "python",
      "pygments_lexer": "ipython3",
      "version": "3.10.0"
    }
  },
  "nbformat": 4,
  "nbformat_minor": 5
}